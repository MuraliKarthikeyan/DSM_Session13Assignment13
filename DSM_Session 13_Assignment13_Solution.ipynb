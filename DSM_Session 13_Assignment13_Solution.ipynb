{
 "cells": [
  {
   "cell_type": "markdown",
   "metadata": {},
   "source": [
    "# Data Science Masters :Assignment 13"
   ]
  },
  {
   "cell_type": "raw",
   "metadata": {},
   "source": [
    "Read the following data set:\n",
    "https://archive.ics.uci.edu/ml/machine-learning-databases/adult/adult.data\n",
    "Task:\n",
    "1. Create an sqlalchemy engine using a sample from the data set\n",
    "2. Write two basic update queries\n",
    "3. Write two delete queries\n",
    "4. Write two filter queries\n",
    "5. Write two function queries"
   ]
  },
  {
   "cell_type": "code",
   "execution_count": 73,
   "metadata": {
    "scrolled": false
   },
   "outputs": [],
   "source": [
    "import pandas as pd\n",
    "from sqlalchemy import create_engine\n",
    "\n",
    "df = pd.read_csv(\"https://archive.ics.uci.edu/ml/machine-learning-databases/adult/adult.data\",header=None, names = ['age','workclass','fnlwgt','education','educationnum','maritalstatus','occupation','relationship','race','sex','capitalgain','capitalloss','hoursperweek','nativecountry','prob'])\n",
    "df = df.drop(['prob'],axis=1)\n",
    "df = df.apply(lambda x: x.str.strip() if x.dtype == \"object\" else x)"
   ]
  },
  {
   "cell_type": "code",
   "execution_count": 83,
   "metadata": {},
   "outputs": [
    {
     "data": {
      "text/plain": [
       "[(0, 39, 'State-gov', 77516, 'Bachelors', 13, 'Never-married', 'Adm-clerical', 'Not-in-family', 'White', 'Male', 2174, 0, 40, 'United-States'),\n",
       " (1, 50, 'Self-emp-not-inc', 83311, 'Bachelors', 13, 'Married-civ-spouse', 'Exec-managerial', 'Husband', 'White', 'Male', 0, 0, 13, 'United-States'),\n",
       " (2, 38, 'Private', 215646, 'HS-grad', 9, 'Divorced', 'Handlers-cleaners', 'Not-in-family', 'White', 'Male', 0, 0, 40, 'United-States'),\n",
       " (3, 53, 'Private', 234721, '11th', 7, 'Married-civ-spouse', 'Handlers-cleaners', 'Husband', 'Black', 'Male', 0, 0, 40, 'United-States'),\n",
       " (4, 28, 'Private', 338409, 'Bachelors', 13, 'Married-civ-spouse', 'Prof-specialty', 'Wife', 'Black', 'Female', 0, 0, 40, 'Cuba'),\n",
       " (5, 37, 'Private', 284582, 'Masters', 14, 'Married-civ-spouse', 'Exec-managerial', 'Wife', 'White', 'Female', 0, 0, 40, 'United-States'),\n",
       " (6, 49, 'Private', 160187, '9th', 5, 'Married-spouse-absent', 'Other-service', 'Not-in-family', 'Black', 'Female', 0, 0, 16, 'Jamaica'),\n",
       " (7, 52, 'Self-emp-not-inc', 209642, 'HS-grad', 9, 'Married-civ-spouse', 'Exec-managerial', 'Husband', 'White', 'Male', 0, 0, 45, 'United-States'),\n",
       " (8, 31, 'Private', 45781, 'Masters', 14, 'Never-married', 'Prof-specialty', 'Not-in-family', 'White', 'Female', 14084, 0, 50, 'United-States'),\n",
       " (9, 42, 'Private', 159449, 'Bachelors', 13, 'Married-civ-spouse', 'Exec-managerial', 'Husband', 'White', 'Male', 5178, 0, 40, 'United-States')]"
      ]
     },
     "execution_count": 83,
     "metadata": {},
     "output_type": "execute_result"
    }
   ],
   "source": [
    "# 1. Create an sqlalchemy engine using a sample from the data set\n",
    "engine = create_engine('sqlite://', echo=False)\n",
    "df.head(10).to_sql('adultdb', con=engine)\n",
    "engine.execute(\"SELECT * FROM adultdb;\").fetchall()"
   ]
  },
  {
   "cell_type": "code",
   "execution_count": 84,
   "metadata": {},
   "outputs": [
    {
     "data": {
      "text/plain": [
       "[(0, 39, 'State-gov', 77516, 'Bachelors', 13, 'Never-married', 'Adm-clerical', 'Not-in-family', 'White', 'M', 2174, 0, 40, 'United-States'),\n",
       " (1, 50, 'Self-emp-not-inc', 83311, 'Bachelors', 13, 'Married-civ-spouse', 'Exec-managerial', 'Husband', 'White', 'M', 0, 0, 13, 'United-States'),\n",
       " (2, 38, 'Private', 215646, 'HS-grad', 9, 'Divorced', 'Handlers-cleaners', 'Not-in-family', 'White', 'M', 0, 0, 40, 'United-States'),\n",
       " (3, 53, 'Private', 234721, '11th', 7, 'Married-civ-spouse', 'Handlers-cleaners', 'Husband', 'Black', 'M', 0, 0, 40, 'United-States'),\n",
       " (4, 28, 'Private', 338409, 'Bachelors', 13, 'Married-civ-spouse', 'Prof-specialty', 'Wife', 'Black', 'F', 0, 0, 40, 'Cuba')]"
      ]
     },
     "execution_count": 84,
     "metadata": {},
     "output_type": "execute_result"
    }
   ],
   "source": [
    "#2. Write two basic update queries\n",
    "# Solution\n",
    "# Update 1 query - Updating Male and Female to M and F resepectively... \n",
    "engine.execute(\"\"\"\n",
    "UPDATE adultdb \n",
    "SET sex = CASE\n",
    "              WHEN sex='Male' THEN 'M'\n",
    "              WHEN sex='Female' THEN 'F'\n",
    "              ELSE sex\n",
    "          END\n",
    "\"\"\")\n",
    "engine.execute(\"Select * from adultdb LIMIT 5;\").fetchall()"
   ]
  },
  {
   "cell_type": "code",
   "execution_count": 85,
   "metadata": {},
   "outputs": [
    {
     "data": {
      "text/plain": [
       "[(0, 39, 'State-gov', 77516, 'BE', 13, 'Never-married', 'Adm-clerical', 'Not-in-family', 'White', 'M', 2174, 0, 40, 'United-States'),\n",
       " (1, 50, 'Self-emp-not-inc', 83311, 'BE', 13, 'Married-civ-spouse', 'Exec-managerial', 'Husband', 'White', 'M', 0, 0, 13, 'United-States'),\n",
       " (2, 38, 'Private', 215646, 'HS-grad', 9, 'Divorced', 'Handlers-cleaners', 'Not-in-family', 'White', 'M', 0, 0, 40, 'United-States'),\n",
       " (3, 53, 'Private', 234721, '11th', 7, 'Married-civ-spouse', 'Handlers-cleaners', 'Husband', 'Black', 'M', 0, 0, 40, 'United-States'),\n",
       " (4, 28, 'Private', 338409, 'BE', 13, 'Married-civ-spouse', 'Prof-specialty', 'Wife', 'Black', 'F', 0, 0, 40, 'Cuba')]"
      ]
     },
     "execution_count": 85,
     "metadata": {},
     "output_type": "execute_result"
    }
   ],
   "source": [
    "# Update 2 Query -  Updating Bachelors as BE...\n",
    "engine.execute(\"\"\"\n",
    "UPDATE adultdb\n",
    "SET education = 'BE'\n",
    "WHERE education = 'Bachelors';\n",
    "\"\"\")\n",
    "engine.execute(\"Select * FROM adultdb LIMIT 5;\").fetchall()"
   ]
  },
  {
   "cell_type": "code",
   "execution_count": 86,
   "metadata": {},
   "outputs": [
    {
     "data": {
      "text/plain": [
       "[(0, 39, 'State-gov', 77516, 'BE', 13, 'Never-married', 'Adm-clerical', 'Not-in-family', 'White', 'M', 2174, 0, 40, 'United-States'),\n",
       " (1, 50, 'Self-emp-not-inc', 83311, 'BE', 13, 'Married-civ-spouse', 'Exec-managerial', 'Husband', 'White', 'M', 0, 0, 13, 'United-States'),\n",
       " (2, 38, 'Private', 215646, 'HS-grad', 9, 'Divorced', 'Handlers-cleaners', 'Not-in-family', 'White', 'M', 0, 0, 40, 'United-States'),\n",
       " (3, 53, 'Private', 234721, '11th', 7, 'Married-civ-spouse', 'Handlers-cleaners', 'Husband', 'Black', 'M', 0, 0, 40, 'United-States'),\n",
       " (5, 37, 'Private', 284582, 'Masters', 14, 'Married-civ-spouse', 'Exec-managerial', 'Wife', 'White', 'F', 0, 0, 40, 'United-States'),\n",
       " (6, 49, 'Private', 160187, '9th', 5, 'Married-spouse-absent', 'Other-service', 'Not-in-family', 'Black', 'F', 0, 0, 16, 'Jamaica'),\n",
       " (7, 52, 'Self-emp-not-inc', 209642, 'HS-grad', 9, 'Married-civ-spouse', 'Exec-managerial', 'Husband', 'White', 'M', 0, 0, 45, 'United-States'),\n",
       " (8, 31, 'Private', 45781, 'Masters', 14, 'Never-married', 'Prof-specialty', 'Not-in-family', 'White', 'F', 14084, 0, 50, 'United-States'),\n",
       " (9, 42, 'Private', 159449, 'BE', 13, 'Married-civ-spouse', 'Exec-managerial', 'Husband', 'White', 'M', 5178, 0, 40, 'United-States')]"
      ]
     },
     "execution_count": 86,
     "metadata": {},
     "output_type": "execute_result"
    }
   ],
   "source": [
    "# 3. Write two delete queries\n",
    "# Solution\n",
    "# Delete 1 Query - Deleting records for country Cuba\n",
    "engine.execute(\"\"\"\n",
    "DELETE FROM adultdb WHERE nativecountry = 'Cuba';\n",
    "\"\"\")\n",
    "engine.execute(\"Select * FROM adultdb;\").fetchall()"
   ]
  },
  {
   "cell_type": "code",
   "execution_count": 87,
   "metadata": {},
   "outputs": [
    {
     "data": {
      "text/plain": [
       "[(0, 39, 'State-gov', 77516, 'BE', 13, 'Never-married', 'Adm-clerical', 'Not-in-family', 'White', 'M', 2174, 0, 40, 'United-States'),\n",
       " (1, 50, 'Self-emp-not-inc', 83311, 'BE', 13, 'Married-civ-spouse', 'Exec-managerial', 'Husband', 'White', 'M', 0, 0, 13, 'United-States'),\n",
       " (2, 38, 'Private', 215646, 'HS-grad', 9, 'Divorced', 'Handlers-cleaners', 'Not-in-family', 'White', 'M', 0, 0, 40, 'United-States'),\n",
       " (5, 37, 'Private', 284582, 'Masters', 14, 'Married-civ-spouse', 'Exec-managerial', 'Wife', 'White', 'F', 0, 0, 40, 'United-States'),\n",
       " (6, 49, 'Private', 160187, '9th', 5, 'Married-spouse-absent', 'Other-service', 'Not-in-family', 'Black', 'F', 0, 0, 16, 'Jamaica'),\n",
       " (7, 52, 'Self-emp-not-inc', 209642, 'HS-grad', 9, 'Married-civ-spouse', 'Exec-managerial', 'Husband', 'White', 'M', 0, 0, 45, 'United-States'),\n",
       " (8, 31, 'Private', 45781, 'Masters', 14, 'Never-married', 'Prof-specialty', 'Not-in-family', 'White', 'F', 14084, 0, 50, 'United-States'),\n",
       " (9, 42, 'Private', 159449, 'BE', 13, 'Married-civ-spouse', 'Exec-managerial', 'Husband', 'White', 'M', 5178, 0, 40, 'United-States')]"
      ]
     },
     "execution_count": 87,
     "metadata": {},
     "output_type": "execute_result"
    }
   ],
   "source": [
    "# Delete 2 Query -  Deleting a row where race is black and age above 50\n",
    "engine.execute(\"\"\"\n",
    "DELETE FROM adultdb WHERE race = 'Black' AND age > 50;\n",
    "\"\"\")\n",
    "engine.execute(\"Select * FROM adultdb;\").fetchall()"
   ]
  },
  {
   "cell_type": "code",
   "execution_count": 88,
   "metadata": {},
   "outputs": [
    {
     "data": {
      "text/plain": [
       "[(2, 38, 'Private', 215646, 'HS-grad', 9, 'Divorced', 'Handlers-cleaners', 'Not-in-family', 'White', 'M', 0, 0, 40, 'United-States'),\n",
       " (5, 37, 'Private', 284582, 'Masters', 14, 'Married-civ-spouse', 'Exec-managerial', 'Wife', 'White', 'F', 0, 0, 40, 'United-States'),\n",
       " (6, 49, 'Private', 160187, '9th', 5, 'Married-spouse-absent', 'Other-service', 'Not-in-family', 'Black', 'F', 0, 0, 16, 'Jamaica'),\n",
       " (8, 31, 'Private', 45781, 'Masters', 14, 'Never-married', 'Prof-specialty', 'Not-in-family', 'White', 'F', 14084, 0, 50, 'United-States'),\n",
       " (9, 42, 'Private', 159449, 'BE', 13, 'Married-civ-spouse', 'Exec-managerial', 'Husband', 'White', 'M', 5178, 0, 40, 'United-States')]"
      ]
     },
     "execution_count": 88,
     "metadata": {},
     "output_type": "execute_result"
    }
   ],
   "source": [
    "# 4. Write two filter queries\n",
    "# Solution\n",
    "# Filter 1 Query - Filtering private secotor employees\n",
    "engine.execute(\"SELECT * FROM adultdb WHERE workclass = 'Private';\").fetchall()"
   ]
  },
  {
   "cell_type": "code",
   "execution_count": 89,
   "metadata": {},
   "outputs": [
    {
     "data": {
      "text/plain": [
       "[('State-gov', 39, 'BE'),\n",
       " ('Private', 38, 'HS-grad'),\n",
       " ('Private', 37, 'Masters'),\n",
       " ('Private', 31, 'Masters')]"
      ]
     },
     "execution_count": 89,
     "metadata": {},
     "output_type": "execute_result"
    }
   ],
   "source": [
    "# Filter 2 Query - Filtering based on age <40\n",
    "engine.execute(\"SELECT workclass,age,education FROM adultdb WHERE age < 40;\").fetchall()"
   ]
  },
  {
   "cell_type": "code",
   "execution_count": 90,
   "metadata": {},
   "outputs": [
    {
     "data": {
      "text/plain": [
       "(42.25,)"
      ]
     },
     "execution_count": 90,
     "metadata": {},
     "output_type": "execute_result"
    }
   ],
   "source": [
    "# 5. Write two function queries\n",
    "# Solution\n",
    "# Function 1 Query - Calculating Mean value for age.. \n",
    "engine.execute(\"SELECT AVG(age) as Avg_ageValue FROM adultdb;\").fetchone()"
   ]
  },
  {
   "cell_type": "code",
   "execution_count": 91,
   "metadata": {},
   "outputs": [
    {
     "data": {
      "text/plain": [
       "[('9th', 1), ('BE', 3), ('HS-grad', 2), ('Masters', 2)]"
      ]
     },
     "execution_count": 91,
     "metadata": {},
     "output_type": "execute_result"
    }
   ],
   "source": [
    "# Function 2 Query -  Finding edcuation distribution \n",
    "engine.execute(\"\"\"SELECT education, COUNT(education) FROM adultdb GROUP BY education;\"\"\").fetchall()"
   ]
  }
 ],
 "metadata": {
  "kernelspec": {
   "display_name": "Python 3",
   "language": "python",
   "name": "python3"
  },
  "language_info": {
   "codemirror_mode": {
    "name": "ipython",
    "version": 3
   },
   "file_extension": ".py",
   "mimetype": "text/x-python",
   "name": "python",
   "nbconvert_exporter": "python",
   "pygments_lexer": "ipython3",
   "version": "3.6.5"
  }
 },
 "nbformat": 4,
 "nbformat_minor": 2
}
